{
 "cells": [
  {
   "cell_type": "code",
   "execution_count": 3,
   "metadata": {},
   "outputs": [],
   "source": [
    "import numpy as np\n",
    "import pandas as pd"
   ]
  },
  {
   "cell_type": "code",
   "execution_count": 4,
   "metadata": {},
   "outputs": [],
   "source": [
    "df = pd.read_csv(\"loan_data_set.csv\")"
   ]
  },
  {
   "cell_type": "code",
   "execution_count": 5,
   "metadata": {},
   "outputs": [
    {
     "data": {
      "text/plain": [
       "Index(['Loan_ID', 'Gender', 'Married', 'Dependents', 'Education',\n",
       "       'Self_Employed', 'ApplicantIncome', 'CoapplicantIncome', 'LoanAmount',\n",
       "       'Loan_Amount_Term', 'Credit_History', 'Property_Area', 'Loan_Status'],\n",
       "      dtype='object')"
      ]
     },
     "execution_count": 5,
     "metadata": {},
     "output_type": "execute_result"
    }
   ],
   "source": [
    "df.columns"
   ]
  },
  {
   "cell_type": "code",
   "execution_count": 6,
   "metadata": {},
   "outputs": [
    {
     "name": "stdout",
     "output_type": "stream",
     "text": [
      "Index(['Gender', 'Married', 'Dependents', 'Education', 'Self_Employed',\n",
      "       'ApplicantIncome', 'CoapplicantIncome', 'LoanAmount',\n",
      "       'Loan_Amount_Term', 'Credit_History', 'Property_Area'],\n",
      "      dtype='object')\n"
     ]
    }
   ],
   "source": [
    "Y = df['Loan_Status']\n",
    "X = df.drop(columns =['Loan_ID','Loan_Status'])\n",
    "print(X.columns)"
   ]
  },
  {
   "cell_type": "code",
   "execution_count": 7,
   "metadata": {},
   "outputs": [],
   "source": [
    "#X.describe()\n",
    "#df['Gender'].unique()"
   ]
  },
  {
   "cell_type": "code",
   "execution_count": 8,
   "metadata": {},
   "outputs": [
    {
     "name": "stdout",
     "output_type": "stream",
     "text": [
      "0.021172638436482084\n",
      "[23, 126, 171, 188, 314, 334, 460, 467, 477, 507, 576, 588, 592]\n"
     ]
    }
   ],
   "source": [
    "total=0\n",
    "count=0\n",
    "indices=[]\n",
    "for index,rows in df.iterrows():\n",
    "    if(rows['Gender']!='Male' and rows['Gender']!='Female'):\n",
    "        count+=1\n",
    "        indices.append(index)\n",
    "    total+=1\n",
    "print(count/total)\n",
    "print(indices)"
   ]
  },
  {
   "cell_type": "code",
   "execution_count": 9,
   "metadata": {},
   "outputs": [
    {
     "data": {
      "text/plain": [
       "array(['No', 'Yes', nan], dtype=object)"
      ]
     },
     "execution_count": 9,
     "metadata": {},
     "output_type": "execute_result"
    }
   ],
   "source": [
    "df['Married'].unique()"
   ]
  },
  {
   "cell_type": "code",
   "execution_count": 10,
   "metadata": {},
   "outputs": [
    {
     "name": "stdout",
     "output_type": "stream",
     "text": [
      "0.004885993485342019\n",
      "[104, 228, 435]\n"
     ]
    }
   ],
   "source": [
    "total=0\n",
    "count=0\n",
    "indices=[]\n",
    "for index,rows in df.iterrows():\n",
    "    if(rows['Married']!='Yes' and rows['Married']!='No'):\n",
    "        count+=1\n",
    "        indices.append(index)\n",
    "    total+=1\n",
    "print(count/total)\n",
    "print(indices)"
   ]
  },
  {
   "cell_type": "code",
   "execution_count": 11,
   "metadata": {},
   "outputs": [
    {
     "data": {
      "text/plain": [
       "array(['0', '1', '2', '3+', nan], dtype=object)"
      ]
     },
     "execution_count": 11,
     "metadata": {},
     "output_type": "execute_result"
    }
   ],
   "source": [
    "df['Dependents'].unique()"
   ]
  },
  {
   "cell_type": "code",
   "execution_count": 12,
   "metadata": {},
   "outputs": [
    {
     "name": "stdout",
     "output_type": "stream",
     "text": [
      "0.024429967426710098\n",
      "[102, 104, 120, 226, 228, 293, 301, 332, 335, 346, 355, 435, 517, 571, 597]\n"
     ]
    }
   ],
   "source": [
    "total=0\n",
    "count=0\n",
    "indices=[]\n",
    "for index,rows in df.iterrows():\n",
    "    if(rows['Dependents'] not in ['0','1','2','3+']):\n",
    "        count+=1\n",
    "        indices.append(index)\n",
    "    total+=1\n",
    "print(count/total)\n",
    "print(indices)"
   ]
  },
  {
   "cell_type": "code",
   "execution_count": 13,
   "metadata": {},
   "outputs": [
    {
     "data": {
      "text/plain": [
       "array(['Graduate', 'Not Graduate'], dtype=object)"
      ]
     },
     "execution_count": 13,
     "metadata": {},
     "output_type": "execute_result"
    }
   ],
   "source": [
    "df['Education'].unique()"
   ]
  },
  {
   "cell_type": "code",
   "execution_count": 14,
   "metadata": {},
   "outputs": [
    {
     "data": {
      "text/plain": [
       "array(['No', 'Yes', nan], dtype=object)"
      ]
     },
     "execution_count": 14,
     "metadata": {},
     "output_type": "execute_result"
    }
   ],
   "source": [
    "df['Self_Employed'].unique()"
   ]
  },
  {
   "cell_type": "code",
   "execution_count": 15,
   "metadata": {},
   "outputs": [
    {
     "name": "stdout",
     "output_type": "stream",
     "text": [
      "0.05211726384364821\n",
      "[11, 19, 24, 29, 30, 95, 107, 111, 114, 158, 170, 218, 231, 236, 268, 295, 333, 336, 344, 374, 380, 385, 411, 432, 447, 463, 468, 535, 542, 579, 600, 601]\n"
     ]
    }
   ],
   "source": [
    "total=0\n",
    "count=0\n",
    "indices=[]\n",
    "for index,rows in df.iterrows():\n",
    "    if(rows['Self_Employed'] not in ['Yes','No']):\n",
    "        count+=1\n",
    "        indices.append(index)\n",
    "    total+=1\n",
    "print(count/total)\n",
    "print(indices)"
   ]
  },
  {
   "cell_type": "code",
   "execution_count": 16,
   "metadata": {},
   "outputs": [
    {
     "name": "stdout",
     "output_type": "stream",
     "text": [
      "0.0\n",
      "[]\n"
     ]
    }
   ],
   "source": [
    "import math\n",
    "total=0\n",
    "count=0\n",
    "indices=[]\n",
    "for index,rows in df.iterrows():\n",
    "    if(math.isnan(rows['ApplicantIncome'])):\n",
    "        count+=1\n",
    "        indices.append(index)\n",
    "    total+=1\n",
    "print(count/total)\n",
    "print(indices)"
   ]
  },
  {
   "cell_type": "code",
   "execution_count": 17,
   "metadata": {},
   "outputs": [
    {
     "name": "stdout",
     "output_type": "stream",
     "text": [
      "0.0\n",
      "[]\n"
     ]
    }
   ],
   "source": [
    "import math\n",
    "total=0\n",
    "count=0\n",
    "indices=[]\n",
    "for index,rows in df.iterrows():\n",
    "    if(math.isnan(rows['CoapplicantIncome'])):\n",
    "        count+=1\n",
    "        indices.append(index)\n",
    "    total+=1\n",
    "print(count/total)\n",
    "print(indices)"
   ]
  },
  {
   "cell_type": "code",
   "execution_count": 18,
   "metadata": {},
   "outputs": [
    {
     "name": "stdout",
     "output_type": "stream",
     "text": [
      "0.035830618892508145\n",
      "[0, 35, 63, 81, 95, 102, 103, 113, 127, 202, 284, 305, 322, 338, 387, 435, 437, 479, 524, 550, 551, 605]\n"
     ]
    }
   ],
   "source": [
    "total=0\n",
    "count=0\n",
    "indices=[]\n",
    "for index,rows in df.iterrows():\n",
    "    if(math.isnan(rows['LoanAmount'])):\n",
    "        count+=1\n",
    "        indices.append(index)\n",
    "    total+=1\n",
    "print(count/total)\n",
    "print(indices)"
   ]
  },
  {
   "cell_type": "code",
   "execution_count": 19,
   "metadata": {},
   "outputs": [
    {
     "name": "stdout",
     "output_type": "stream",
     "text": [
      "0.02280130293159609\n",
      "[19, 36, 44, 45, 73, 112, 165, 197, 223, 232, 335, 367, 421, 423]\n"
     ]
    }
   ],
   "source": [
    "total=0\n",
    "count=0\n",
    "indices=[]\n",
    "for index,rows in df.iterrows():\n",
    "    if(math.isnan(rows['Loan_Amount_Term'])):\n",
    "        count+=1\n",
    "        indices.append(index)\n",
    "    total+=1\n",
    "print(count/total)\n",
    "print(indices)"
   ]
  },
  {
   "cell_type": "code",
   "execution_count": 20,
   "metadata": {},
   "outputs": [
    {
     "name": "stdout",
     "output_type": "stream",
     "text": [
      "0.08143322475570032\n",
      "[16, 24, 30, 42, 79, 83, 86, 95, 117, 125, 129, 130, 156, 181, 187, 198, 219, 236, 237, 259, 260, 279, 309, 313, 317, 318, 323, 348, 363, 377, 392, 395, 411, 444, 449, 451, 460, 473, 490, 491, 497, 503, 506, 530, 533, 544, 556, 565, 583, 600]\n"
     ]
    }
   ],
   "source": [
    "total=0\n",
    "count=0\n",
    "indices=[]\n",
    "for index,rows in df.iterrows():\n",
    "    if(math.isnan(rows['Credit_History'])):\n",
    "        count+=1\n",
    "        indices.append(index)\n",
    "    total+=1\n",
    "print(count/total)\n",
    "print(indices)"
   ]
  },
  {
   "cell_type": "code",
   "execution_count": 21,
   "metadata": {},
   "outputs": [
    {
     "data": {
      "text/plain": [
       "array(['Urban', 'Rural', 'Semiurban'], dtype=object)"
      ]
     },
     "execution_count": 21,
     "metadata": {},
     "output_type": "execute_result"
    }
   ],
   "source": [
    "df['Property_Area'].unique()"
   ]
  },
  {
   "cell_type": "code",
   "execution_count": 22,
   "metadata": {},
   "outputs": [
    {
     "name": "stdout",
     "output_type": "stream",
     "text": [
      "0.0\n",
      "[]\n"
     ]
    }
   ],
   "source": [
    "total=0\n",
    "count=0\n",
    "indices=[]\n",
    "for index,rows in df.iterrows():\n",
    "    if(rows['Property_Area'] not in ['Urban','Rural','Semiurban']):\n",
    "        count+=1\n",
    "        indices.append(index)\n",
    "    total+=1\n",
    "print(count/total)\n",
    "print(indices)"
   ]
  },
  {
   "cell_type": "markdown",
   "metadata": {},
   "source": [
    "### Exploratory Data Analysis\n",
    "<table>\n",
    "    <tr>\n",
    "        <th>Column</th>\n",
    "        <th>Unique values</th>\n",
    "        <th>% of NaN</th>\n",
    "        <th>Indices of NaN</th>\n",
    "    </tr>\n",
    "    <tr>\n",
    "        <td>Gender</td>\n",
    "        <td>Male,Female</td>\n",
    "        <td>0.021</td>\n",
    "        <td>[23, 126, 171, 188, 314, 334, 460, 467, 477, 507, 576, 588, 592]</td>\n",
    "    </tr>\n",
    "    <tr>\n",
    "        <td>Married</td>\n",
    "        <td>Yes,No</td>\n",
    "        <td>0.0048</td>\n",
    "        <td>[104, 228, 435]</td>\n",
    "    </tr>\n",
    "    <tr>\n",
    "        <td>Dependents</td>\n",
    "        <td>0,1,2,3+</td>\n",
    "        <td>0.024</td>\n",
    "        <td>[102, 104, 120, 226, 228, 293, 301, 332, 335, 346, 355, 435, 517, 571, 597]</td>\n",
    "    </tr>\n",
    "    <tr>\n",
    "        <td>Education</td>\n",
    "        <td>Graduate, Not Graduate</td>\n",
    "        <td>0.0</td>\n",
    "        <td>[]</td>\n",
    "    </tr>\n",
    "    <tr>\n",
    "        <td>Self_Employed</td>\n",
    "        <td>Yes, No</td>\n",
    "        <td>0.052</td>\n",
    "        <td>[11, 19, 24, 29, 30, 95, 107, 111, 114, 158, 170, 218, 231, 236, 268, 295, 333, 336, 344, 374, 380, 385, 411, 432, 447, 463, 468, 535, 542, 579, 600, 601]</td>\n",
    "    </tr>\n",
    "    <tr>\n",
    "        <td>Applicant_Income</td>\n",
    "        <td>some range</td>\n",
    "        <td>0.0</td>\n",
    "        <td>[]</td>\n",
    "    </tr>\n",
    "    <tr>\n",
    "        <td>Coapplicant_Income</td>\n",
    "        <td>some range</td>\n",
    "        <td>0.0</td>\n",
    "        <td>[]</td>\n",
    "    </tr>\n",
    "    <tr>\n",
    "        <td>Loan_Amount</td>\n",
    "        <td>some range</td>\n",
    "        <td>0.036</td>\n",
    "        <td>[0, 35, 63, 81, 95, 102, 103, 113, 127, 202, 284, 305, 322, 338, 387, 435, 437, 479, 524, 550, 551, 605]</td>\n",
    "    </tr>\n",
    "    <tr>\n",
    "        <td>Loan_Amount_Term</td>\n",
    "        <td>some range</td>\n",
    "        <td>0.023</td>\n",
    "        <td>[19, 36, 44, 45, 73, 112, 165, 197, 223, 232, 335, 367, 421, 423]</td>\n",
    "    </tr>\n",
    "    <tr>\n",
    "        <td>Credit_History</td>\n",
    "        <td>some range</td>\n",
    "        <td>0.081</td>\n",
    "        <td>[16, 24, 30, 42, 79, 83, 86, 95, 117, 125, 129, 130, 156, 181, 187, 198, 219, 236, 237, 259, 260, 279, 309, 313, 317, 318, 323, 348, 363, 377, 392, 395, 411, 444, 449, 451, 460, 473, 490, 491, 497, 503, 506, 530, 533, 544, 556, 565, 583, 600]</td>\n",
    "    </tr>\n",
    "    <tr>\n",
    "        <td>Property_Area</td>\n",
    "        <td>Urban,Rural,SemiUrban</td>\n",
    "        <td>0.0</td>\n",
    "        <td>[]</td>\n",
    "    </tr>\n",
    "</table>"
   ]
  },
  {
   "cell_type": "code",
   "execution_count": 23,
   "metadata": {},
   "outputs": [
    {
     "data": {
      "text/plain": [
       "array([360., 120., 240.,  nan, 180.,  60., 300., 480.,  36.,  84.,  12.])"
      ]
     },
     "execution_count": 23,
     "metadata": {},
     "output_type": "execute_result"
    }
   ],
   "source": [
    "df['Loan_Amount_Term'].unique()"
   ]
  },
  {
   "cell_type": "code",
   "execution_count": null,
   "metadata": {},
   "outputs": [],
   "source": []
  }
 ],
 "metadata": {
  "kernelspec": {
   "display_name": "Python 3",
   "language": "python",
   "name": "python3"
  },
  "language_info": {
   "codemirror_mode": {
    "name": "ipython",
    "version": 3
   },
   "file_extension": ".py",
   "mimetype": "text/x-python",
   "name": "python",
   "nbconvert_exporter": "python",
   "pygments_lexer": "ipython3",
   "version": "3.7.4"
  }
 },
 "nbformat": 4,
 "nbformat_minor": 2
}
